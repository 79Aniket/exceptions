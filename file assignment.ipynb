{
 "cells": [
  {
   "cell_type": "markdown",
   "id": "1360c63f-bdb1-4131-837f-bd4ae517bb5f",
   "metadata": {},
   "source": [
    "### Q6.Create a custom exeption class Use this class to handle an exeption."
   ]
  },
  {
   "cell_type": "code",
   "execution_count": 1,
   "id": "2da327d1-1d3b-4df8-b717-aa8c4d20ad8a",
   "metadata": {},
   "outputs": [],
   "source": [
    "class validateage(Exception):\n",
    "    def __init__(self, mess):\n",
    "        self.mess = mess"
   ]
  },
  {
   "cell_type": "code",
   "execution_count": 2,
   "id": "3ae2e598-ec23-43f8-b5b7-820e72aa04e5",
   "metadata": {},
   "outputs": [],
   "source": [
    "def validateage(age):\n",
    "    if age<0:\n",
    "        raise validateage(\"entered age a negative\")\n",
    "    else:\n",
    "        print(\"age is valid\")"
   ]
  },
  {
   "cell_type": "code",
   "execution_count": 10,
   "id": "a4affb07-dcf5-47fd-af9c-a48ff7e6b8ec",
   "metadata": {},
   "outputs": [
    {
     "name": "stdin",
     "output_type": "stream",
     "text": [
      "enter your age 20\n"
     ]
    },
    {
     "name": "stdout",
     "output_type": "stream",
     "text": [
      "age is valid\n"
     ]
    }
   ],
   "source": [
    "try:\n",
    "    age = int(input(\"enter your age\"))\n",
    "    validateage(age)\n",
    "except validateage as e :\n",
    "    print(e)"
   ]
  },
  {
   "cell_type": "code",
   "execution_count": null,
   "id": "6f4db4b1-ac91-4db0-bb4a-d81f8441afba",
   "metadata": {},
   "outputs": [],
   "source": []
  },
  {
   "cell_type": "markdown",
   "id": "87df478c-37f8-4e67-9226-c61db1bb5a4d",
   "metadata": {},
   "source": [
    "### Q5.what are custom exceptions in python why do we need custom exceptions explain with an example"
   ]
  },
  {
   "cell_type": "code",
   "execution_count": 11,
   "id": "c2566557-7e55-49b4-9c21-4e0fe743e0f5",
   "metadata": {},
   "outputs": [],
   "source": [
    "class validateage(Exception):\n",
    "    def __init__(self,message):\n",
    "        self.message = message"
   ]
  },
  {
   "cell_type": "code",
   "execution_count": 12,
   "id": "fbf8af05-4c3d-44fe-b891-b4bf5d5f6729",
   "metadata": {},
   "outputs": [],
   "source": [
    "def validateage(age):\n",
    "    if age < 18 :\n",
    "        raise validateage(\"you are not eligible of vote\")\n",
    "    elif age > 100 :\n",
    "        raise validateage(\"your age is very high\")\n",
    "    else:\n",
    "        print(\"your are eligible for vote\")"
   ]
  },
  {
   "cell_type": "code",
   "execution_count": 13,
   "id": "220df71c-7290-4956-827c-77ca3eef9b00",
   "metadata": {},
   "outputs": [
    {
     "name": "stdin",
     "output_type": "stream",
     "text": [
      "enter your age 18\n"
     ]
    },
    {
     "name": "stdout",
     "output_type": "stream",
     "text": [
      "your are eligible for vote\n"
     ]
    }
   ],
   "source": [
    "try :\n",
    "    age = int(input(\"enter your age\"))\n",
    "    validateage(age)\n",
    "except validateage as e :\n",
    "    print(e)"
   ]
  },
  {
   "cell_type": "code",
   "execution_count": null,
   "id": "af57abfc-d94e-4bd6-bfc8-79c4348fd814",
   "metadata": {},
   "outputs": [],
   "source": []
  },
  {
   "cell_type": "markdown",
   "id": "ba5395ab-46c3-464a-acd8-7a0953f5d0ae",
   "metadata": {},
   "source": [
    "### Q4.Explin with an exmple:  a.try and else  b.finally c.raise"
   ]
  },
  {
   "cell_type": "code",
   "execution_count": 16,
   "id": "7a27131f-7a80-4541-a8c7-ec6f99a9cbd7",
   "metadata": {},
   "outputs": [
    {
     "name": "stdout",
     "output_type": "stream",
     "text": [
      "this is my first block not writable\n"
     ]
    }
   ],
   "source": [
    "#a.\n",
    "try :\n",
    "    f = open(\"test.txt\",  \"r\")\n",
    "    f.write(\"this is my write block\")\n",
    "except Exception as e :\n",
    "    print(\"this is my first block\",  e)\n",
    "\n",
    "else:\n",
    "    f.close()\n",
    "    print(\"this will be executed once your try will be execute without error\")"
   ]
  },
  {
   "cell_type": "code",
   "execution_count": 17,
   "id": "8810edbb-6b56-4620-999b-d87232938414",
   "metadata": {},
   "outputs": [
    {
     "name": "stdout",
     "output_type": "stream",
     "text": [
      "finally will execute itself in any situation\n"
     ]
    }
   ],
   "source": [
    "#b.\n",
    "try:\n",
    "    f = open(\"test1.txt\", \"w\")\n",
    "    f.write(\"write something\")\n",
    "finally:\n",
    "    print(\"finally will execute itself in any situation\")"
   ]
  },
  {
   "cell_type": "code",
   "execution_count": 18,
   "id": "286c697c-d1eb-4bf0-9ba7-50788b6d2822",
   "metadata": {},
   "outputs": [
    {
     "name": "stdout",
     "output_type": "stream",
     "text": [
      "this is my first raise code\n"
     ]
    }
   ],
   "source": [
    "#.c\n",
    "def raise_():\n",
    "    raise Exception(\"this is my first raise code\")\n",
    "try:\n",
    "    raise_()\n",
    "except Exception as e:\n",
    "    print(e)"
   ]
  },
  {
   "cell_type": "code",
   "execution_count": null,
   "id": "c3065200-2217-4d10-8253-4d8a35ace8ff",
   "metadata": {},
   "outputs": [],
   "source": []
  },
  {
   "cell_type": "markdown",
   "id": "03f9adf4-d7a1-4e1d-996e-6bb18e3921db",
   "metadata": {},
   "source": [
    "### Q3. which pyton statements are used to catch and handle exception explain with an example"
   ]
  },
  {
   "cell_type": "code",
   "execution_count": 21,
   "id": "a32c3cae-1600-4527-9c03-6c5764a8339c",
   "metadata": {},
   "outputs": [
    {
     "name": "stdout",
     "output_type": "stream",
     "text": [
      "The try and except block in Python is used to catch and handle exceptions [Errno 2] No such file or directory: 'test0.txt'\n"
     ]
    }
   ],
   "source": [
    "try :\n",
    "    f = open(\"test0.txt\",  \"r\")\n",
    "except Exception as e :\n",
    "    print(\"The try and except block in Python is used to catch and handle exceptions\",  e)"
   ]
  },
  {
   "cell_type": "code",
   "execution_count": null,
   "id": "05ac9eb5-5f7d-4f41-a934-38fc24aa04c6",
   "metadata": {},
   "outputs": [],
   "source": []
  },
  {
   "cell_type": "markdown",
   "id": "715edbbb-2052-41f1-b3a2-9252f78182f2",
   "metadata": {},
   "source": [
    "### what is an exception in python write the difference between exception and syntax error"
   ]
  },
  {
   "cell_type": "code",
   "execution_count": 29,
   "id": "6759a563-4894-4f18-8a1d-cf6f8399c790",
   "metadata": {},
   "outputs": [
    {
     "ename": "SyntaxError",
     "evalue": "invalid syntax. Perhaps you forgot a comma? (2497053111.py, line 1)",
     "output_type": "error",
     "traceback": [
      "\u001b[0;36m  Cell \u001b[0;32mIn[29], line 1\u001b[0;36m\u001b[0m\n\u001b[0;31m    print(hello world)\u001b[0m\n\u001b[0m          ^\u001b[0m\n\u001b[0;31mSyntaxError\u001b[0m\u001b[0;31m:\u001b[0m invalid syntax. Perhaps you forgot a comma?\n"
     ]
    }
   ],
   "source": [
    "print(hello world)"
   ]
  },
  {
   "cell_type": "code",
   "execution_count": 31,
   "id": "59e55815-66ff-44de-87e0-662cb3d90e40",
   "metadata": {},
   "outputs": [
    {
     "name": "stdout",
     "output_type": "stream",
     "text": [
      "this is my block [Errno 2] No such file or directory: 'text.txt'\n"
     ]
    }
   ],
   "source": [
    "try:\n",
    "    f = open(\"text.txt\", \"r\")\n",
    "except Exception as e:\n",
    "    print(\"this is my block\", e)"
   ]
  },
  {
   "cell_type": "code",
   "execution_count": null,
   "id": "d70463ab-0656-48aa-8a3c-8f50d8e88a0e",
   "metadata": {},
   "outputs": [],
   "source": []
  }
 ],
 "metadata": {
  "kernelspec": {
   "display_name": "Python 3 (ipykernel)",
   "language": "python",
   "name": "python3"
  },
  "language_info": {
   "codemirror_mode": {
    "name": "ipython",
    "version": 3
   },
   "file_extension": ".py",
   "mimetype": "text/x-python",
   "name": "python",
   "nbconvert_exporter": "python",
   "pygments_lexer": "ipython3",
   "version": "3.10.8"
  }
 },
 "nbformat": 4,
 "nbformat_minor": 5
}
